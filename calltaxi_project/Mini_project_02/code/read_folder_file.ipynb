{
 "cells": [
  {
   "cell_type": "code",
   "execution_count": 111,
   "metadata": {},
   "outputs": [],
   "source": [
    "import pandas as pd\n",
    "import os "
   ]
  },
  {
   "cell_type": "code",
   "execution_count": 216,
   "metadata": {},
   "outputs": [],
   "source": [
    "def reform_df(idx): \n",
    "    \"\"\"\n",
    "    csv 파일을 읽어 데이터를 정제하는 함수 \n",
    "    \"\"\"\n",
    "    \n",
    "    taxi_raw = pd.read_csv('data/raw_data/CALL_TAXI/CALL_TAXI2_{:02}MONTH.csv'.format(idx)) # 파일 읽기 \n",
    "    taxi = taxi_raw.iloc[:, 4:] # 필요한 컬럼만 사용 \n",
    "    taxi = taxi.groupby(['발신지_시군구','발신지_읍면동']).sum().reset_index() # 동별 콜택시 건수 \n",
    "    taxi['기준년월'] = taxi['기준년월일'][0].astype('str')[:4] + '-' + taxi['기준년월일'][0].astype('str')[4:6] # 기준년월 정리\n",
    "    taxi = taxi[['기준년월','발신지_시군구','발신지_읍면동','통화건수']] # 컬럼 순서 변경 \n",
    "    \n",
    "    return taxi"
   ]
  },
  {
   "cell_type": "code",
   "execution_count": 182,
   "metadata": {},
   "outputs": [],
   "source": [
    "path_dir = 'data/raw_data/CALL_TAXI' # 파일 폴더 경로 \n",
    "file_list = os.listdir(path_dir) # 경로에 있는 파일 찾기 \n",
    "file_list"
   ]
  },
  {
   "cell_type": "code",
   "execution_count": 243,
   "metadata": {},
   "outputs": [
    {
     "data": {
      "text/plain": [
       "['CALL_TAXI.csv',\n",
       " 'CALL_TAXI2_01MONTH.csv',\n",
       " 'CALL_TAXI2_02MONTH.csv',\n",
       " 'CALL_TAXI2_03MONTH.csv',\n",
       " 'CALL_TAXI2_04MONTH.csv',\n",
       " 'CALL_TAXI2_05MONTH.csv',\n",
       " 'CALL_TAXI2_06MONTH.csv',\n",
       " 'CALL_TAXI2_07MONTH.csv',\n",
       " 'CALL_TAXI2_08MONTH.csv',\n",
       " 'CALL_TAXI2_09MONTH.csv',\n",
       " 'CALL_TAXI2_10MONTH.csv',\n",
       " 'CALL_TAXI2_11MONTH.csv',\n",
       " 'CALL_TAXI2_12MONTH.csv']"
      ]
     },
     "execution_count": 243,
     "metadata": {},
     "output_type": "execute_result"
    }
   ],
   "source": []
  },
  {
   "cell_type": "code",
   "execution_count": 217,
   "metadata": {},
   "outputs": [],
   "source": [
    "rdfs = [] # 빈 리스트 생성 \n",
    "for i in range(1, len(file_list)+1):\n",
    "    rdfs.append(reform_df(i)) # 각 리스트에 데이터프레임 저장 "
   ]
  },
  {
   "cell_type": "code",
   "execution_count": 219,
   "metadata": {},
   "outputs": [],
   "source": [
    "dfs = pd.DataFrame() # 빈 데이터프레임 생성 \n",
    "for rdf in rdfs:\n",
    "    dfs = pd.concat([dfs, rdf], axis=0) # 리스트에 있는 데이터를 하나씩 추가 "
   ]
  },
  {
   "cell_type": "code",
   "execution_count": 241,
   "metadata": {
    "scrolled": true
   },
   "outputs": [],
   "source": [
    "dfs = dfs.sort_values('기준년월') # '기준년월'을 기준으로 데이터 정렬 "
   ]
  },
  {
   "cell_type": "code",
   "execution_count": 242,
   "metadata": {},
   "outputs": [],
   "source": [
    "dfs.to_csv(path_dir+'/CALL_TAXI.csv', index=False, encoding='CP949') # 파일 저장 "
   ]
  }
 ],
 "metadata": {
  "kernelspec": {
   "display_name": "Python 3",
   "language": "python",
   "name": "python3"
  },
  "language_info": {
   "codemirror_mode": {
    "name": "ipython",
    "version": 3
   },
   "file_extension": ".py",
   "mimetype": "text/x-python",
   "name": "python",
   "nbconvert_exporter": "python",
   "pygments_lexer": "ipython3",
   "version": "3.7.3"
  }
 },
 "nbformat": 4,
 "nbformat_minor": 2
}
