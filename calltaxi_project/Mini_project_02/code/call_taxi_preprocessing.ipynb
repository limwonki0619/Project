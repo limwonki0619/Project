{
 "cells": [
  {
   "cell_type": "code",
   "execution_count": 1,
   "metadata": {},
   "outputs": [],
   "source": [
    "import os\n",
    "import math\n",
    "import pandas as pd\n",
    "import numpy as np\n",
    "from datetime import datetime, timedelta"
   ]
  },
  {
   "cell_type": "code",
   "execution_count": 2,
   "metadata": {},
   "outputs": [],
   "source": [
    "data_path = r\"C:\\Users\\limwk\\Desktop\\data\\taxi_data_raw_all.csv\""
   ]
  },
  {
   "cell_type": "code",
   "execution_count": 72,
   "metadata": {},
   "outputs": [],
   "source": [
    "raw = pd.read_csv(data_path, encoding='euc-kr')"
   ]
  },
  {
   "cell_type": "code",
   "execution_count": 71,
   "metadata": {},
   "outputs": [
    {
     "data": {
      "text/html": [
       "<div>\n",
       "<style scoped>\n",
       "    .dataframe tbody tr th:only-of-type {\n",
       "        vertical-align: middle;\n",
       "    }\n",
       "\n",
       "    .dataframe tbody tr th {\n",
       "        vertical-align: top;\n",
       "    }\n",
       "\n",
       "    .dataframe thead th {\n",
       "        text-align: right;\n",
       "    }\n",
       "</style>\n",
       "<table border=\"1\" class=\"dataframe\">\n",
       "  <thead>\n",
       "    <tr style=\"text-align: right;\">\n",
       "      <th></th>\n",
       "      <th>차량고유번호</th>\n",
       "      <th>차량타입</th>\n",
       "      <th>예정일시</th>\n",
       "      <th>배차일시</th>\n",
       "      <th>승차일시</th>\n",
       "      <th>출발지(구)</th>\n",
       "      <th>출발지(동)</th>\n",
       "      <th>목적지(구)</th>\n",
       "      <th>목적지(동)</th>\n",
       "    </tr>\n",
       "  </thead>\n",
       "  <tbody>\n",
       "    <tr>\n",
       "      <th>0</th>\n",
       "      <td>9568</td>\n",
       "      <td>중형승합</td>\n",
       "      <td>2018-01-01 오전 12:03:00</td>\n",
       "      <td>2018-01-01 오전 2:19:23</td>\n",
       "      <td>2018-01-01 오전 2:48:48</td>\n",
       "      <td>중구</td>\n",
       "      <td>명동</td>\n",
       "      <td>용산구</td>\n",
       "      <td>한강로동</td>\n",
       "    </tr>\n",
       "    <tr>\n",
       "      <th>1</th>\n",
       "      <td>7638</td>\n",
       "      <td>중형승합</td>\n",
       "      <td>2018-01-01 오전 12:04:00</td>\n",
       "      <td>2018-01-01 오전 2:24:19</td>\n",
       "      <td>2018-01-01 오전 2:46:04</td>\n",
       "      <td>서초구</td>\n",
       "      <td>반포1동</td>\n",
       "      <td>강서구</td>\n",
       "      <td>등촌제3동</td>\n",
       "    </tr>\n",
       "    <tr>\n",
       "      <th>2</th>\n",
       "      <td>5807</td>\n",
       "      <td>중형승합</td>\n",
       "      <td>2018-01-01 오전 12:08:00</td>\n",
       "      <td>2018-01-01 오전 2:27:53</td>\n",
       "      <td>2018-01-01 오전 2:48:29</td>\n",
       "      <td>강북구</td>\n",
       "      <td>인수동</td>\n",
       "      <td>노원구</td>\n",
       "      <td>하계2동</td>\n",
       "    </tr>\n",
       "    <tr>\n",
       "      <th>3</th>\n",
       "      <td>1061</td>\n",
       "      <td>중형승합</td>\n",
       "      <td>2018-01-01 오전 12:21:00</td>\n",
       "      <td>2018-01-01 오전 3:48:11</td>\n",
       "      <td>2018-01-01 오전 3:59:29</td>\n",
       "      <td>관악구</td>\n",
       "      <td>청림동</td>\n",
       "      <td>성북구</td>\n",
       "      <td>안암동</td>\n",
       "    </tr>\n",
       "    <tr>\n",
       "      <th>4</th>\n",
       "      <td>7658</td>\n",
       "      <td>중형승합</td>\n",
       "      <td>2018-01-01 오전 12:25:00</td>\n",
       "      <td>2018-01-01 오전 3:55:17</td>\n",
       "      <td>2018-01-01 오전 4:17:58</td>\n",
       "      <td>노원구</td>\n",
       "      <td>월계1동</td>\n",
       "      <td>노원구</td>\n",
       "      <td>상계5동</td>\n",
       "    </tr>\n",
       "  </tbody>\n",
       "</table>\n",
       "</div>"
      ],
      "text/plain": [
       "   차량고유번호  차량타입                    예정일시                   배차일시  \\\n",
       "0    9568  중형승합  2018-01-01 오전 12:03:00  2018-01-01 오전 2:19:23   \n",
       "1    7638  중형승합  2018-01-01 오전 12:04:00  2018-01-01 오전 2:24:19   \n",
       "2    5807  중형승합  2018-01-01 오전 12:08:00  2018-01-01 오전 2:27:53   \n",
       "3    1061  중형승합  2018-01-01 오전 12:21:00  2018-01-01 오전 3:48:11   \n",
       "4    7658  중형승합  2018-01-01 오전 12:25:00  2018-01-01 오전 3:55:17   \n",
       "\n",
       "                    승차일시 출발지(구) 출발지(동) 목적지(구) 목적지(동)  \n",
       "0  2018-01-01 오전 2:48:48     중구     명동    용산구   한강로동  \n",
       "1  2018-01-01 오전 2:46:04    서초구   반포1동    강서구  등촌제3동  \n",
       "2  2018-01-01 오전 2:48:29    강북구    인수동    노원구   하계2동  \n",
       "3  2018-01-01 오전 3:59:29    관악구    청림동    성북구    안암동  \n",
       "4  2018-01-01 오전 4:17:58    노원구   월계1동    노원구   상계5동  "
      ]
     },
     "execution_count": 71,
     "metadata": {},
     "output_type": "execute_result"
    }
   ],
   "source": [
    "raw.head()"
   ]
  },
  {
   "cell_type": "code",
   "execution_count": 74,
   "metadata": {},
   "outputs": [],
   "source": [
    "raw.예정일시 = raw.예정일시.str.replace('오전', 'AM')\n",
    "raw.예정일시 = raw.예정일시.str.replace('오후', 'PM')\n",
    "raw.배차일시 = raw.배차일시.str.replace('오전', 'AM')\n",
    "raw.배차일시 = raw.배차일시.str.replace('오후', 'PM')\n",
    "raw.승차일시 = raw.승차일시.str.replace('오전', 'AM')\n",
    "raw.승차일시 = raw.승차일시.str.replace('오후', 'PM')"
   ]
  },
  {
   "cell_type": "code",
   "execution_count": 75,
   "metadata": {},
   "outputs": [
    {
     "data": {
      "text/html": [
       "<div>\n",
       "<style scoped>\n",
       "    .dataframe tbody tr th:only-of-type {\n",
       "        vertical-align: middle;\n",
       "    }\n",
       "\n",
       "    .dataframe tbody tr th {\n",
       "        vertical-align: top;\n",
       "    }\n",
       "\n",
       "    .dataframe thead th {\n",
       "        text-align: right;\n",
       "    }\n",
       "</style>\n",
       "<table border=\"1\" class=\"dataframe\">\n",
       "  <thead>\n",
       "    <tr style=\"text-align: right;\">\n",
       "      <th></th>\n",
       "      <th>차량고유번호</th>\n",
       "      <th>차량타입</th>\n",
       "      <th>예정일시</th>\n",
       "      <th>배차일시</th>\n",
       "      <th>승차일시</th>\n",
       "      <th>출발지(구)</th>\n",
       "      <th>출발지(동)</th>\n",
       "      <th>목적지(구)</th>\n",
       "      <th>목적지(동)</th>\n",
       "    </tr>\n",
       "  </thead>\n",
       "  <tbody>\n",
       "    <tr>\n",
       "      <th>0</th>\n",
       "      <td>9568</td>\n",
       "      <td>중형승합</td>\n",
       "      <td>2018-01-01 AM 12:03:00</td>\n",
       "      <td>2018-01-01 AM 2:19:23</td>\n",
       "      <td>2018-01-01 AM 2:48:48</td>\n",
       "      <td>중구</td>\n",
       "      <td>명동</td>\n",
       "      <td>용산구</td>\n",
       "      <td>한강로동</td>\n",
       "    </tr>\n",
       "    <tr>\n",
       "      <th>1</th>\n",
       "      <td>7638</td>\n",
       "      <td>중형승합</td>\n",
       "      <td>2018-01-01 AM 12:04:00</td>\n",
       "      <td>2018-01-01 AM 2:24:19</td>\n",
       "      <td>2018-01-01 AM 2:46:04</td>\n",
       "      <td>서초구</td>\n",
       "      <td>반포1동</td>\n",
       "      <td>강서구</td>\n",
       "      <td>등촌제3동</td>\n",
       "    </tr>\n",
       "    <tr>\n",
       "      <th>2</th>\n",
       "      <td>5807</td>\n",
       "      <td>중형승합</td>\n",
       "      <td>2018-01-01 AM 12:08:00</td>\n",
       "      <td>2018-01-01 AM 2:27:53</td>\n",
       "      <td>2018-01-01 AM 2:48:29</td>\n",
       "      <td>강북구</td>\n",
       "      <td>인수동</td>\n",
       "      <td>노원구</td>\n",
       "      <td>하계2동</td>\n",
       "    </tr>\n",
       "    <tr>\n",
       "      <th>3</th>\n",
       "      <td>1061</td>\n",
       "      <td>중형승합</td>\n",
       "      <td>2018-01-01 AM 12:21:00</td>\n",
       "      <td>2018-01-01 AM 3:48:11</td>\n",
       "      <td>2018-01-01 AM 3:59:29</td>\n",
       "      <td>관악구</td>\n",
       "      <td>청림동</td>\n",
       "      <td>성북구</td>\n",
       "      <td>안암동</td>\n",
       "    </tr>\n",
       "    <tr>\n",
       "      <th>4</th>\n",
       "      <td>7658</td>\n",
       "      <td>중형승합</td>\n",
       "      <td>2018-01-01 AM 12:25:00</td>\n",
       "      <td>2018-01-01 AM 3:55:17</td>\n",
       "      <td>2018-01-01 AM 4:17:58</td>\n",
       "      <td>노원구</td>\n",
       "      <td>월계1동</td>\n",
       "      <td>노원구</td>\n",
       "      <td>상계5동</td>\n",
       "    </tr>\n",
       "  </tbody>\n",
       "</table>\n",
       "</div>"
      ],
      "text/plain": [
       "   차량고유번호  차량타입                    예정일시                   배차일시  \\\n",
       "0    9568  중형승합  2018-01-01 AM 12:03:00  2018-01-01 AM 2:19:23   \n",
       "1    7638  중형승합  2018-01-01 AM 12:04:00  2018-01-01 AM 2:24:19   \n",
       "2    5807  중형승합  2018-01-01 AM 12:08:00  2018-01-01 AM 2:27:53   \n",
       "3    1061  중형승합  2018-01-01 AM 12:21:00  2018-01-01 AM 3:48:11   \n",
       "4    7658  중형승합  2018-01-01 AM 12:25:00  2018-01-01 AM 3:55:17   \n",
       "\n",
       "                    승차일시 출발지(구) 출발지(동) 목적지(구) 목적지(동)  \n",
       "0  2018-01-01 AM 2:48:48     중구     명동    용산구   한강로동  \n",
       "1  2018-01-01 AM 2:46:04    서초구   반포1동    강서구  등촌제3동  \n",
       "2  2018-01-01 AM 2:48:29    강북구    인수동    노원구   하계2동  \n",
       "3  2018-01-01 AM 3:59:29    관악구    청림동    성북구    안암동  \n",
       "4  2018-01-01 AM 4:17:58    노원구   월계1동    노원구   상계5동  "
      ]
     },
     "execution_count": 75,
     "metadata": {},
     "output_type": "execute_result"
    }
   ],
   "source": [
    "raw.head()"
   ]
  },
  {
   "cell_type": "code",
   "execution_count": 77,
   "metadata": {},
   "outputs": [],
   "source": [
    "time11 = []\n",
    "time22 = []\n",
    "time33 = []\n",
    "form_time = \"%Y-%m-%d %p %I:%M:%S\"\n",
    "form_time2 = \"%Y-%m-%d\"\n",
    "\n",
    "for i in range(len(raw.예정일시)):    \n",
    "    try:\n",
    "        time11.append(datetime.strptime(raw.예정일시[i], form_time))\n",
    "        \n",
    "    except:\n",
    "        time11.append(datetime.strptime(raw.예정일시[i], form_time2))\n",
    "        \n",
    "for i in range(len(raw.배차일시)):    \n",
    "    try:\n",
    "        time22.append(datetime.strptime(raw.배차일시[i], form_time))\n",
    "    except:\n",
    "        time22.append(0)\n",
    "        \n",
    "for i in range(len(raw.승차일시)):    \n",
    "    try:\n",
    "        time33.append(datetime.strptime(raw.승차일시[i], form_time))\n",
    "    except:\n",
    "        time33.append(0)"
   ]
  },
  {
   "cell_type": "code",
   "execution_count": 82,
   "metadata": {},
   "outputs": [
    {
     "data": {
      "text/plain": [
       "'2018-01-01 00:03:00'"
      ]
     },
     "execution_count": 82,
     "metadata": {},
     "output_type": "execute_result"
    }
   ],
   "source": [
    "time11[0].strftime('%Y-%m-%d %H:%M:%S')"
   ]
  },
  {
   "cell_type": "code",
   "execution_count": 97,
   "metadata": {},
   "outputs": [],
   "source": [
    "time111 = []\n",
    "time222 = []\n",
    "time333 = []\n",
    "\n",
    "form_time = '%Y-%m-%d %H:%M:%S'\n",
    "\n",
    "for i in range(len(time11)):    \n",
    "    try:\n",
    "        time111.append(datetime.strftime(time11[i], form_time))\n",
    "    except:\n",
    "        time111.append(0)\n",
    "        \n",
    "for i in range(len(time22)):    \n",
    "    try:\n",
    "        time222.append(datetime.strftime(time22[i], form_time))\n",
    "    except:\n",
    "        time222.append(0)\n",
    "        \n",
    "for i in range(len(time33)):    \n",
    "    try:\n",
    "        time333.append(datetime.strftime(time33[i], form_time))\n",
    "    except:\n",
    "        time333.append(0)"
   ]
  },
  {
   "cell_type": "code",
   "execution_count": 98,
   "metadata": {},
   "outputs": [],
   "source": [
    "raw.예정일시 = time111\n",
    "raw.배차일시 = time222\n",
    "raw.승차일시 = time333"
   ]
  },
  {
   "cell_type": "code",
   "execution_count": 99,
   "metadata": {},
   "outputs": [
    {
     "data": {
      "text/html": [
       "<div>\n",
       "<style scoped>\n",
       "    .dataframe tbody tr th:only-of-type {\n",
       "        vertical-align: middle;\n",
       "    }\n",
       "\n",
       "    .dataframe tbody tr th {\n",
       "        vertical-align: top;\n",
       "    }\n",
       "\n",
       "    .dataframe thead th {\n",
       "        text-align: right;\n",
       "    }\n",
       "</style>\n",
       "<table border=\"1\" class=\"dataframe\">\n",
       "  <thead>\n",
       "    <tr style=\"text-align: right;\">\n",
       "      <th></th>\n",
       "      <th>차량고유번호</th>\n",
       "      <th>차량타입</th>\n",
       "      <th>예정일시</th>\n",
       "      <th>배차일시</th>\n",
       "      <th>승차일시</th>\n",
       "      <th>출발지(구)</th>\n",
       "      <th>출발지(동)</th>\n",
       "      <th>목적지(구)</th>\n",
       "      <th>목적지(동)</th>\n",
       "    </tr>\n",
       "  </thead>\n",
       "  <tbody>\n",
       "    <tr>\n",
       "      <th>0</th>\n",
       "      <td>9568</td>\n",
       "      <td>중형승합</td>\n",
       "      <td>2018-01-01 00:03:00</td>\n",
       "      <td>2018-01-01 02:19:23</td>\n",
       "      <td>2018-01-01 02:48:48</td>\n",
       "      <td>중구</td>\n",
       "      <td>명동</td>\n",
       "      <td>용산구</td>\n",
       "      <td>한강로동</td>\n",
       "    </tr>\n",
       "    <tr>\n",
       "      <th>1</th>\n",
       "      <td>7638</td>\n",
       "      <td>중형승합</td>\n",
       "      <td>2018-01-01 00:04:00</td>\n",
       "      <td>2018-01-01 02:24:19</td>\n",
       "      <td>2018-01-01 02:46:04</td>\n",
       "      <td>서초구</td>\n",
       "      <td>반포1동</td>\n",
       "      <td>강서구</td>\n",
       "      <td>등촌제3동</td>\n",
       "    </tr>\n",
       "    <tr>\n",
       "      <th>2</th>\n",
       "      <td>5807</td>\n",
       "      <td>중형승합</td>\n",
       "      <td>2018-01-01 00:08:00</td>\n",
       "      <td>2018-01-01 02:27:53</td>\n",
       "      <td>2018-01-01 02:48:29</td>\n",
       "      <td>강북구</td>\n",
       "      <td>인수동</td>\n",
       "      <td>노원구</td>\n",
       "      <td>하계2동</td>\n",
       "    </tr>\n",
       "    <tr>\n",
       "      <th>3</th>\n",
       "      <td>1061</td>\n",
       "      <td>중형승합</td>\n",
       "      <td>2018-01-01 00:21:00</td>\n",
       "      <td>2018-01-01 03:48:11</td>\n",
       "      <td>2018-01-01 03:59:29</td>\n",
       "      <td>관악구</td>\n",
       "      <td>청림동</td>\n",
       "      <td>성북구</td>\n",
       "      <td>안암동</td>\n",
       "    </tr>\n",
       "    <tr>\n",
       "      <th>4</th>\n",
       "      <td>7658</td>\n",
       "      <td>중형승합</td>\n",
       "      <td>2018-01-01 00:25:00</td>\n",
       "      <td>2018-01-01 03:55:17</td>\n",
       "      <td>2018-01-01 04:17:58</td>\n",
       "      <td>노원구</td>\n",
       "      <td>월계1동</td>\n",
       "      <td>노원구</td>\n",
       "      <td>상계5동</td>\n",
       "    </tr>\n",
       "  </tbody>\n",
       "</table>\n",
       "</div>"
      ],
      "text/plain": [
       "   차량고유번호  차량타입                 예정일시                 배차일시  \\\n",
       "0    9568  중형승합  2018-01-01 00:03:00  2018-01-01 02:19:23   \n",
       "1    7638  중형승합  2018-01-01 00:04:00  2018-01-01 02:24:19   \n",
       "2    5807  중형승합  2018-01-01 00:08:00  2018-01-01 02:27:53   \n",
       "3    1061  중형승합  2018-01-01 00:21:00  2018-01-01 03:48:11   \n",
       "4    7658  중형승합  2018-01-01 00:25:00  2018-01-01 03:55:17   \n",
       "\n",
       "                  승차일시 출발지(구) 출발지(동) 목적지(구) 목적지(동)  \n",
       "0  2018-01-01 02:48:48     중구     명동    용산구   한강로동  \n",
       "1  2018-01-01 02:46:04    서초구   반포1동    강서구  등촌제3동  \n",
       "2  2018-01-01 02:48:29    강북구    인수동    노원구   하계2동  \n",
       "3  2018-01-01 03:59:29    관악구    청림동    성북구    안암동  \n",
       "4  2018-01-01 04:17:58    노원구   월계1동    노원구   상계5동  "
      ]
     },
     "execution_count": 99,
     "metadata": {},
     "output_type": "execute_result"
    }
   ],
   "source": [
    "raw.head()"
   ]
  },
  {
   "cell_type": "markdown",
   "metadata": {},
   "source": [
    "## 서울지역만 뽑기"
   ]
  },
  {
   "cell_type": "code",
   "execution_count": 217,
   "metadata": {},
   "outputs": [],
   "source": [
    "raw2 = raw.copy()"
   ]
  },
  {
   "cell_type": "code",
   "execution_count": 3,
   "metadata": {},
   "outputs": [],
   "source": [
    "gu = pd.read_csv(\"C:/Users/limwk/Desktop/data/서울시 행정구역.csv\", encoding='euc-kr')"
   ]
  },
  {
   "cell_type": "code",
   "execution_count": 4,
   "metadata": {},
   "outputs": [],
   "source": [
    "gu = gu[['행정구']]"
   ]
  },
  {
   "cell_type": "code",
   "execution_count": 224,
   "metadata": {},
   "outputs": [],
   "source": [
    "raw2 = raw2.merge(gu, how='left', left_on='출발지(구)', right_on='행정구')\n",
    "raw2 = raw2.merge(gu, how='left', left_on='목적지(구)', right_on='행정구')"
   ]
  },
  {
   "cell_type": "code",
   "execution_count": 225,
   "metadata": {},
   "outputs": [],
   "source": [
    "raw2 = raw2[raw2.예정일시 != 0]\n",
    "raw2 = raw2[raw2.배차일시 != 0]\n",
    "raw2 = raw2[raw2.승차일시 != 0]"
   ]
  },
  {
   "cell_type": "code",
   "execution_count": 226,
   "metadata": {},
   "outputs": [],
   "source": [
    "raw3 = raw2.iloc[:, :-2]"
   ]
  },
  {
   "cell_type": "code",
   "execution_count": 228,
   "metadata": {},
   "outputs": [],
   "source": [
    "raw3.to_csv(\"C:/Users/limwk/Desktop/data/raw3.csv\", encoding='euc-kr', index=None)"
   ]
  },
  {
   "cell_type": "markdown",
   "metadata": {},
   "source": [
    "### 파생변수 (요일, 시간 등 생성)"
   ]
  },
  {
   "cell_type": "code",
   "execution_count": 352,
   "metadata": {},
   "outputs": [],
   "source": [
    "df = pd.read_csv(\"C:/Users/limwk/Desktop/data/raw3.csv\", encoding='euc-kr')"
   ]
  },
  {
   "cell_type": "code",
   "execution_count": 353,
   "metadata": {},
   "outputs": [
    {
     "data": {
      "text/html": [
       "<div>\n",
       "<style scoped>\n",
       "    .dataframe tbody tr th:only-of-type {\n",
       "        vertical-align: middle;\n",
       "    }\n",
       "\n",
       "    .dataframe tbody tr th {\n",
       "        vertical-align: top;\n",
       "    }\n",
       "\n",
       "    .dataframe thead th {\n",
       "        text-align: right;\n",
       "    }\n",
       "</style>\n",
       "<table border=\"1\" class=\"dataframe\">\n",
       "  <thead>\n",
       "    <tr style=\"text-align: right;\">\n",
       "      <th></th>\n",
       "      <th>차량고유번호</th>\n",
       "      <th>차량타입</th>\n",
       "      <th>예정일시</th>\n",
       "      <th>배차일시</th>\n",
       "      <th>승차일시</th>\n",
       "      <th>출발지(구)</th>\n",
       "      <th>출발지(동)</th>\n",
       "      <th>목적지(구)</th>\n",
       "      <th>목적지(동)</th>\n",
       "    </tr>\n",
       "  </thead>\n",
       "  <tbody>\n",
       "  </tbody>\n",
       "</table>\n",
       "</div>"
      ],
      "text/plain": [
       "Empty DataFrame\n",
       "Columns: [차량고유번호, 차량타입, 예정일시, 배차일시, 승차일시, 출발지(구), 출발지(동), 목적지(구), 목적지(동)]\n",
       "Index: []"
      ]
     },
     "execution_count": 353,
     "metadata": {},
     "output_type": "execute_result"
    }
   ],
   "source": [
    "df[df.예정일시 == '0']"
   ]
  },
  {
   "cell_type": "code",
   "execution_count": 355,
   "metadata": {},
   "outputs": [],
   "source": [
    "df['승차_예정(초)'] = time_diff(df.승차일시, df.예정일시)\n",
    "df['승차_배차(초)'] = time_diff(df.승차일시, df.배차일시)\n",
    "df['배차_예정(초)'] = time_diff(df.배차일시, df.예정일시)"
   ]
  },
  {
   "cell_type": "code",
   "execution_count": 356,
   "metadata": {},
   "outputs": [],
   "source": [
    "df['월'] = GetYMDT(df['승차일시'], YMD='%m')\n",
    "df['일'] = GetYMDT(df['승차일시'], YMD='%d')\n",
    "df['시간'] = GetYMDT(df['승차일시'], YMD='%H')\n",
    "df['요일'] = GetWeekday(df['승차일시'])"
   ]
  },
  {
   "cell_type": "markdown",
   "metadata": {},
   "source": [
    "### **행정동 전처리**"
   ]
  },
  {
   "cell_type": "code",
   "execution_count": 357,
   "metadata": {},
   "outputs": [],
   "source": [
    "df2 = df.copy()"
   ]
  },
  {
   "cell_type": "code",
   "execution_count": 358,
   "metadata": {
    "scrolled": true
   },
   "outputs": [
    {
     "data": {
      "text/html": [
       "<div>\n",
       "<style scoped>\n",
       "    .dataframe tbody tr th:only-of-type {\n",
       "        vertical-align: middle;\n",
       "    }\n",
       "\n",
       "    .dataframe tbody tr th {\n",
       "        vertical-align: top;\n",
       "    }\n",
       "\n",
       "    .dataframe thead th {\n",
       "        text-align: right;\n",
       "    }\n",
       "</style>\n",
       "<table border=\"1\" class=\"dataframe\">\n",
       "  <thead>\n",
       "    <tr style=\"text-align: right;\">\n",
       "      <th></th>\n",
       "      <th>차량고유번호</th>\n",
       "      <th>차량타입</th>\n",
       "      <th>예정일시</th>\n",
       "      <th>배차일시</th>\n",
       "      <th>승차일시</th>\n",
       "      <th>출발지(구)</th>\n",
       "      <th>출발지(동)</th>\n",
       "      <th>목적지(구)</th>\n",
       "      <th>목적지(동)</th>\n",
       "      <th>승차_예정(초)</th>\n",
       "      <th>승차_배차(초)</th>\n",
       "      <th>배차_예정(초)</th>\n",
       "      <th>월</th>\n",
       "      <th>일</th>\n",
       "      <th>시간</th>\n",
       "      <th>요일</th>\n",
       "    </tr>\n",
       "  </thead>\n",
       "  <tbody>\n",
       "  </tbody>\n",
       "</table>\n",
       "</div>"
      ],
      "text/plain": [
       "Empty DataFrame\n",
       "Columns: [차량고유번호, 차량타입, 예정일시, 배차일시, 승차일시, 출발지(구), 출발지(동), 목적지(구), 목적지(동), 승차_예정(초), 승차_배차(초), 배차_예정(초), 월, 일, 시간, 요일]\n",
       "Index: []"
      ]
     },
     "execution_count": 358,
     "metadata": {},
     "output_type": "execute_result"
    }
   ],
   "source": [
    "df2[df2[\"출발지(동)\"] == '제기동']"
   ]
  },
  {
   "cell_type": "code",
   "execution_count": 359,
   "metadata": {},
   "outputs": [],
   "source": [
    "df2[\"출발지(동)\"] = df2[\"출발지(동)\"].str.replace('제', '')\n",
    "df2[\"출발지(동)\"] = df2[\"출발지(동)\"].str.replace('기동', '제기동')\n",
    "df2[\"출발지(동)\"] = df2[\"출발지(동)\"].str.replace('홍1동', '홍제1동')\n",
    "df2[\"출발지(동)\"] = df2[\"출발지(동)\"].str.replace('홍2동', '홍제2동')\n",
    "df2[\"출발지(동)\"] = df2[\"출발지(동)\"].str.replace('홍3동', '홍제3동')"
   ]
  },
  {
   "cell_type": "code",
   "execution_count": 360,
   "metadata": {},
   "outputs": [],
   "source": [
    "df2[\"목적지(동)\"] = df2[\"목적지(동)\"].str.replace('제', '')\n",
    "df2[\"목적지(동)\"] = df2[\"목적지(동)\"].str.replace('기동', '제기동')\n",
    "df2[\"목적지(동)\"] = df2[\"목적지(동)\"].str.replace('홍1동', '홍제1동')\n",
    "df2[\"목적지(동)\"] = df2[\"목적지(동)\"].str.replace('홍2동', '홍제2동')\n",
    "df2[\"목적지(동)\"] = df2[\"목적지(동)\"].str.replace('홍3동', '홍제3동')"
   ]
  },
  {
   "cell_type": "code",
   "execution_count": 362,
   "metadata": {},
   "outputs": [],
   "source": [
    "df2 = df2.dropna()"
   ]
  },
  {
   "cell_type": "code",
   "execution_count": 323,
   "metadata": {},
   "outputs": [],
   "source": [
    "dif = pd.read_excel(\"D:/limworkspace/Machine-Learning/Group_Projects/Mini_project_02/tableau/201804_정부_서울_행정동_위경도.xlsx\", encoding='euc-kr')"
   ]
  },
  {
   "cell_type": "code",
   "execution_count": 328,
   "metadata": {},
   "outputs": [
    {
     "data": {
      "text/plain": [
       "{'공릉1동', '다산동', '동화동', '신당동', '약수동', '용신동', '위례동', '제기동', '청구동', '회기동'}"
      ]
     },
     "execution_count": 328,
     "metadata": {},
     "output_type": "execute_result"
    }
   ],
   "source": [
    "set(dif[\"adm_nm_dong\"].unique()) - set(df[\"출발지(동)\"])"
   ]
  },
  {
   "cell_type": "code",
   "execution_count": 15,
   "metadata": {},
   "outputs": [],
   "source": [
    "df2.to_csv(\"C:/Users/limwk/Desktop/data/final_call_taxi.csv\", index=False, encoding='euc-kr')"
   ]
  },
  {
   "cell_type": "markdown",
   "metadata": {},
   "source": [
    "### **사용 함수**"
   ]
  },
  {
   "cell_type": "code",
   "execution_count": 237,
   "metadata": {},
   "outputs": [],
   "source": [
    "def time_diff(data1, data2):\n",
    "    temp = []\n",
    "    \n",
    "    for i in range(len(data1)):\n",
    "        d1 = datetime.strptime(data1[i], \"%Y-%m-%d %H:%M:%S\")\n",
    "        d2 = datetime.strptime(data2[i], \"%Y-%m-%d %H:%M:%S\")\n",
    "        delta = d1 - d2\n",
    "        \n",
    "        if delta.days < 0:\n",
    "            temp.append(0)\n",
    "        else:\n",
    "            temp.append(delta.seconds)\n",
    "    return temp"
   ]
  },
  {
   "cell_type": "code",
   "execution_count": 242,
   "metadata": {},
   "outputs": [],
   "source": [
    "def GetYMDT(data, YMD='%m'):\n",
    "    temp = pd.to_datetime(data)\n",
    "    result = temp.dt.strftime(YMD)\n",
    "    return result"
   ]
  },
  {
   "cell_type": "code",
   "execution_count": 240,
   "metadata": {},
   "outputs": [],
   "source": [
    "def GetWeekday(data):\n",
    "    temp = pd.to_datetime(data)\n",
    "    result = temp.dt.weekday_name\n",
    "    return result"
   ]
  },
  {
   "cell_type": "code",
   "execution_count": 164,
   "metadata": {},
   "outputs": [],
   "source": [
    "# seoul = pd.read_csv(\"C:/Users/limwk/Desktop/data/서울_행정동_법정동_연계.csv\", encoding='euc-kr')"
   ]
  }
 ],
 "metadata": {
  "kernelspec": {
   "display_name": "Python 3",
   "language": "python",
   "name": "python3"
  },
  "language_info": {
   "codemirror_mode": {
    "name": "ipython",
    "version": 3
   },
   "file_extension": ".py",
   "mimetype": "text/x-python",
   "name": "python",
   "nbconvert_exporter": "python",
   "pygments_lexer": "ipython3",
   "version": "3.7.3"
  }
 },
 "nbformat": 4,
 "nbformat_minor": 2
}
