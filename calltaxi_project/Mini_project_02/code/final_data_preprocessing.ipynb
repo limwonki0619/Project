{
 "cells": [
  {
   "cell_type": "code",
   "execution_count": 201,
   "metadata": {},
   "outputs": [],
   "source": [
    "import pandas as pd \n",
    "from datetime import datetime, timedelta\n",
    "import warnings\n",
    "warnings.filterwarnings(action='ignore')"
   ]
  },
  {
   "cell_type": "code",
   "execution_count": 80,
   "metadata": {},
   "outputs": [],
   "source": [
    "df = pd.read_csv('C:/Users/709-000/Desktop/data/call_taxi.csv', encoding='euc-kr')"
   ]
  },
  {
   "cell_type": "code",
   "execution_count": 198,
   "metadata": {
    "scrolled": true
   },
   "outputs": [],
   "source": [
    "# pd.DataFrame(df.groupby('출발지(구)')['목적지(구)'].count().sort_values(ascending=False)) 구별 콜 건수 "
   ]
  },
  {
   "cell_type": "code",
   "execution_count": 199,
   "metadata": {},
   "outputs": [],
   "source": [
    "# df.pivot_table('출발지(동)','출발지(구)','목적지(구)', aggfunc='count') 구 to 구 이동 건수  "
   ]
  },
  {
   "cell_type": "code",
   "execution_count": 202,
   "metadata": {},
   "outputs": [
    {
     "data": {
      "text/html": [
       "<div>\n",
       "<style scoped>\n",
       "    .dataframe tbody tr th:only-of-type {\n",
       "        vertical-align: middle;\n",
       "    }\n",
       "\n",
       "    .dataframe tbody tr th {\n",
       "        vertical-align: top;\n",
       "    }\n",
       "\n",
       "    .dataframe thead th {\n",
       "        text-align: right;\n",
       "    }\n",
       "</style>\n",
       "<table border=\"1\" class=\"dataframe\">\n",
       "  <thead>\n",
       "    <tr style=\"text-align: right;\">\n",
       "      <th></th>\n",
       "      <th>차량고유번호</th>\n",
       "      <th>차량타입</th>\n",
       "      <th>예정일시</th>\n",
       "      <th>배차일시</th>\n",
       "      <th>승차일시</th>\n",
       "      <th>출발지(구)</th>\n",
       "      <th>출발지(동)</th>\n",
       "      <th>목적지(구)</th>\n",
       "      <th>목적지(동)</th>\n",
       "    </tr>\n",
       "  </thead>\n",
       "  <tbody>\n",
       "    <tr>\n",
       "      <th>0</th>\n",
       "      <td>9568</td>\n",
       "      <td>중형승합</td>\n",
       "      <td>2018-01-01 00:03:00</td>\n",
       "      <td>2018-01-01 02:19:23</td>\n",
       "      <td>2018-01-01 02:48:48</td>\n",
       "      <td>중구</td>\n",
       "      <td>명동</td>\n",
       "      <td>용산구</td>\n",
       "      <td>한강로동</td>\n",
       "    </tr>\n",
       "    <tr>\n",
       "      <th>1</th>\n",
       "      <td>7638</td>\n",
       "      <td>중형승합</td>\n",
       "      <td>2018-01-01 00:04:00</td>\n",
       "      <td>2018-01-01 02:24:19</td>\n",
       "      <td>2018-01-01 02:46:04</td>\n",
       "      <td>서초구</td>\n",
       "      <td>반포1동</td>\n",
       "      <td>강서구</td>\n",
       "      <td>등촌제3동</td>\n",
       "    </tr>\n",
       "    <tr>\n",
       "      <th>2</th>\n",
       "      <td>5807</td>\n",
       "      <td>중형승합</td>\n",
       "      <td>2018-01-01 00:08:00</td>\n",
       "      <td>2018-01-01 02:27:53</td>\n",
       "      <td>2018-01-01 02:48:29</td>\n",
       "      <td>강북구</td>\n",
       "      <td>인수동</td>\n",
       "      <td>노원구</td>\n",
       "      <td>하계2동</td>\n",
       "    </tr>\n",
       "    <tr>\n",
       "      <th>3</th>\n",
       "      <td>1061</td>\n",
       "      <td>중형승합</td>\n",
       "      <td>2018-01-01 00:21:00</td>\n",
       "      <td>2018-01-01 03:48:11</td>\n",
       "      <td>2018-01-01 03:59:29</td>\n",
       "      <td>관악구</td>\n",
       "      <td>청림동</td>\n",
       "      <td>성북구</td>\n",
       "      <td>안암동</td>\n",
       "    </tr>\n",
       "    <tr>\n",
       "      <th>4</th>\n",
       "      <td>7658</td>\n",
       "      <td>중형승합</td>\n",
       "      <td>2018-01-01 00:25:00</td>\n",
       "      <td>2018-01-01 03:55:17</td>\n",
       "      <td>2018-01-01 04:17:58</td>\n",
       "      <td>노원구</td>\n",
       "      <td>월계1동</td>\n",
       "      <td>노원구</td>\n",
       "      <td>상계5동</td>\n",
       "    </tr>\n",
       "  </tbody>\n",
       "</table>\n",
       "</div>"
      ],
      "text/plain": [
       "   차량고유번호  차량타입                 예정일시                 배차일시  \\\n",
       "0    9568  중형승합  2018-01-01 00:03:00  2018-01-01 02:19:23   \n",
       "1    7638  중형승합  2018-01-01 00:04:00  2018-01-01 02:24:19   \n",
       "2    5807  중형승합  2018-01-01 00:08:00  2018-01-01 02:27:53   \n",
       "3    1061  중형승합  2018-01-01 00:21:00  2018-01-01 03:48:11   \n",
       "4    7658  중형승합  2018-01-01 00:25:00  2018-01-01 03:55:17   \n",
       "\n",
       "                  승차일시 출발지(구) 출발지(동) 목적지(구) 목적지(동)  \n",
       "0  2018-01-01 02:48:48     중구     명동    용산구   한강로동  \n",
       "1  2018-01-01 02:46:04    서초구   반포1동    강서구  등촌제3동  \n",
       "2  2018-01-01 02:48:29    강북구    인수동    노원구   하계2동  \n",
       "3  2018-01-01 03:59:29    관악구    청림동    성북구    안암동  \n",
       "4  2018-01-01 04:17:58    노원구   월계1동    노원구   상계5동  "
      ]
     },
     "execution_count": 202,
     "metadata": {},
     "output_type": "execute_result"
    }
   ],
   "source": [
    "df.head()"
   ]
  },
  {
   "cell_type": "code",
   "execution_count": 203,
   "metadata": {},
   "outputs": [],
   "source": [
    "df['승차_예정(초)'] = time_diff(df.승차일시, df.예정일시)"
   ]
  },
  {
   "cell_type": "code",
   "execution_count": 205,
   "metadata": {},
   "outputs": [],
   "source": [
    "df['승차_배차(초)'] = time_diff(df.승차일시, df.배차일시)"
   ]
  },
  {
   "cell_type": "code",
   "execution_count": 206,
   "metadata": {
    "scrolled": true
   },
   "outputs": [],
   "source": [
    "df['배차_예정(초)'] = time_diff(df.승차일시, df.배차일시)"
   ]
  },
  {
   "cell_type": "code",
   "execution_count": 213,
   "metadata": {},
   "outputs": [],
   "source": [
    "df['월'] = GetYMDT(df['승차일시'], YMD='%m')\n",
    "df['일'] = GetYMDT(df['승차일시'], YMD='%d')\n",
    "df['시간'] = GetYMDT(df['승차일시'], YMD='%H')\n",
    "df['요일'] = GetWeekday(df['승차일시'])"
   ]
  },
  {
   "cell_type": "code",
   "execution_count": 217,
   "metadata": {},
   "outputs": [],
   "source": [
    "df = pd.read_csv('C:/Users/709-000/Desktop/data/call_taxi_final.csv', encoding='euc-kr')\n",
    "# df.to_csv('C:/Users/709-000/Desktop/data/call_taxi_final.csv', index=False, encoding='euc-kr')"
   ]
  },
  {
   "cell_type": "code",
   "execution_count": 219,
   "metadata": {},
   "outputs": [
    {
     "data": {
      "text/plain": [
       "numpy.int64"
      ]
     },
     "execution_count": 219,
     "metadata": {},
     "output_type": "execute_result"
    }
   ],
   "source": [
    "type(df['월'][0])"
   ]
  },
  {
   "cell_type": "code",
   "execution_count": 171,
   "metadata": {},
   "outputs": [],
   "source": [
    "def time_diff(data1, data2):\n",
    "    temp = []\n",
    "    \n",
    "    for i in range(len(data1)):\n",
    "        d1 = datetime.strptime(data1[i], \"%Y-%m-%d %H:%M:%S\")\n",
    "        d2 = datetime.strptime(data2[i], \"%Y-%m-%d %H:%M:%S\")\n",
    "        delta = d1 - d2\n",
    "        \n",
    "        if delta.days < 0:\n",
    "            temp.append(0)\n",
    "        else:\n",
    "            temp.append(delta.seconds)\n",
    "    return temp"
   ]
  },
  {
   "cell_type": "code",
   "execution_count": 212,
   "metadata": {},
   "outputs": [],
   "source": [
    "def GetYMDT(data, YMD='%m'):\n",
    "    temp = pd.to_datetime(data)\n",
    "    result = temp.dt.strftime(YMD)\n",
    "    return result"
   ]
  },
  {
   "cell_type": "code",
   "execution_count": 189,
   "metadata": {},
   "outputs": [],
   "source": [
    "def GetWeekday(data):\n",
    "    temp = pd.to_datetime(data)\n",
    "    result = temp.dt.weekday_name\n",
    "    return result"
   ]
  }
 ],
 "metadata": {
  "kernelspec": {
   "display_name": "Python 3",
   "language": "python",
   "name": "python3"
  },
  "language_info": {
   "codemirror_mode": {
    "name": "ipython",
    "version": 3
   },
   "file_extension": ".py",
   "mimetype": "text/x-python",
   "name": "python",
   "nbconvert_exporter": "python",
   "pygments_lexer": "ipython3",
   "version": "3.7.3"
  }
 },
 "nbformat": 4,
 "nbformat_minor": 2
}
