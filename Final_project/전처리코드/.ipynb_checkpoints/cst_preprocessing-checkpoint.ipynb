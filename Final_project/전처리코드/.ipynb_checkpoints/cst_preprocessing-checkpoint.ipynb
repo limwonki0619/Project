{
 "cells": [
  {
   "cell_type": "markdown",
   "metadata": {},
   "source": [
    "## STEP 02 : 장애인콜시스템(cst) 데이터 전처리"
   ]
  },
  {
   "cell_type": "markdown",
   "metadata": {},
   "source": [
    "## 날짜데이터 형식 변환 "
   ]
  },
  {
   "cell_type": "code",
   "execution_count": 4,
   "metadata": {},
   "outputs": [],
   "source": [
    "import os\n",
    "import math\n",
    "import pandas as pd\n",
    "import numpy as np\n",
    "from datetime import datetime, timedelta"
   ]
  },
  {
   "cell_type": "markdown",
   "metadata": {},
   "source": [
    "- file_path 경로수정필요"
   ]
  },
  {
   "cell_type": "code",
   "execution_count": 55,
   "metadata": {},
   "outputs": [],
   "source": [
    "file_path = r\"C:\\Users\\limwk\\Desktop\\data\""
   ]
  },
  {
   "cell_type": "code",
   "execution_count": 174,
   "metadata": {},
   "outputs": [],
   "source": [
    "raw = pd.read_csv(file_path+'\\cst_19_raw.csv', encoding='euc-kr')"
   ]
  },
  {
   "cell_type": "code",
   "execution_count": 175,
   "metadata": {},
   "outputs": [
    {
     "data": {
      "text/html": [
       "<div>\n",
       "<style scoped>\n",
       "    .dataframe tbody tr th:only-of-type {\n",
       "        vertical-align: middle;\n",
       "    }\n",
       "\n",
       "    .dataframe tbody tr th {\n",
       "        vertical-align: top;\n",
       "    }\n",
       "\n",
       "    .dataframe thead th {\n",
       "        text-align: right;\n",
       "    }\n",
       "</style>\n",
       "<table border=\"1\" class=\"dataframe\">\n",
       "  <thead>\n",
       "    <tr style=\"text-align: right;\">\n",
       "      <th></th>\n",
       "      <th>car_no</th>\n",
       "      <th>car_type</th>\n",
       "      <th>exp_time</th>\n",
       "      <th>set_time</th>\n",
       "      <th>ride_time</th>\n",
       "      <th>dept_gu</th>\n",
       "      <th>dept_dong</th>\n",
       "      <th>dest_gu</th>\n",
       "      <th>dest_dong</th>\n",
       "    </tr>\n",
       "  </thead>\n",
       "  <tbody>\n",
       "    <tr>\n",
       "      <th>0</th>\n",
       "      <td>5815</td>\n",
       "      <td>중형승합</td>\n",
       "      <td>2019-01-01 오전 12:02:00</td>\n",
       "      <td>2019-01-01 오전 3:56:24</td>\n",
       "      <td>2019-01-01 오전 4:15:34</td>\n",
       "      <td>종로구</td>\n",
       "      <td>삼청동</td>\n",
       "      <td>성북구</td>\n",
       "      <td>월곡제1동</td>\n",
       "    </tr>\n",
       "    <tr>\n",
       "      <th>1</th>\n",
       "      <td>5815</td>\n",
       "      <td>중형승합</td>\n",
       "      <td>2019-01-01 오전 12:13:00</td>\n",
       "      <td>2019-01-01 오전 3:17:56</td>\n",
       "      <td>2019-01-01 오전 3:36:11</td>\n",
       "      <td>성북구</td>\n",
       "      <td>보문동</td>\n",
       "      <td>강북구</td>\n",
       "      <td>삼각산동</td>\n",
       "    </tr>\n",
       "    <tr>\n",
       "      <th>2</th>\n",
       "      <td>1313</td>\n",
       "      <td>중형승합</td>\n",
       "      <td>2019-01-01 오전 12:15:00</td>\n",
       "      <td>2019-01-01 오전 3:03:30</td>\n",
       "      <td>2019-01-01 오전 3:23:48</td>\n",
       "      <td>강북구</td>\n",
       "      <td>인수동</td>\n",
       "      <td>노원구</td>\n",
       "      <td>하계2동</td>\n",
       "    </tr>\n",
       "    <tr>\n",
       "      <th>3</th>\n",
       "      <td>5764</td>\n",
       "      <td>승합</td>\n",
       "      <td>2019-01-01 오전 12:17:00</td>\n",
       "      <td>2019-01-01 오전 3:55:50</td>\n",
       "      <td>2019-01-01 오전 4:16:51</td>\n",
       "      <td>중구</td>\n",
       "      <td>회현동</td>\n",
       "      <td>부천시소사구</td>\n",
       "      <td>송내1동</td>\n",
       "    </tr>\n",
       "    <tr>\n",
       "      <th>4</th>\n",
       "      <td>1601</td>\n",
       "      <td>중형승합</td>\n",
       "      <td>2019-01-01 오전 12:21:00</td>\n",
       "      <td>2019-01-01 오전 1:36:00</td>\n",
       "      <td>2019-01-01 오전 2:13:11</td>\n",
       "      <td>은평구</td>\n",
       "      <td>구산동</td>\n",
       "      <td>은평구</td>\n",
       "      <td>역촌동</td>\n",
       "    </tr>\n",
       "  </tbody>\n",
       "</table>\n",
       "</div>"
      ],
      "text/plain": [
       "   car_no car_type                exp_time               set_time  \\\n",
       "0    5815     중형승합  2019-01-01 오전 12:02:00  2019-01-01 오전 3:56:24   \n",
       "1    5815     중형승합  2019-01-01 오전 12:13:00  2019-01-01 오전 3:17:56   \n",
       "2    1313     중형승합  2019-01-01 오전 12:15:00  2019-01-01 오전 3:03:30   \n",
       "3    5764       승합  2019-01-01 오전 12:17:00  2019-01-01 오전 3:55:50   \n",
       "4    1601     중형승합  2019-01-01 오전 12:21:00  2019-01-01 오전 1:36:00   \n",
       "\n",
       "               ride_time dept_gu dept_dong dest_gu dest_dong  \n",
       "0  2019-01-01 오전 4:15:34     종로구       삼청동     성북구     월곡제1동  \n",
       "1  2019-01-01 오전 3:36:11     성북구       보문동     강북구      삼각산동  \n",
       "2  2019-01-01 오전 3:23:48     강북구       인수동     노원구      하계2동  \n",
       "3  2019-01-01 오전 4:16:51      중구       회현동  부천시소사구      송내1동  \n",
       "4  2019-01-01 오전 2:13:11     은평구       구산동     은평구       역촌동  "
      ]
     },
     "execution_count": 175,
     "metadata": {},
     "output_type": "execute_result"
    }
   ],
   "source": [
    "raw.head()"
   ]
  },
  {
   "cell_type": "code",
   "execution_count": 176,
   "metadata": {},
   "outputs": [],
   "source": [
    "raw.exp_time = raw.exp_time.str.replace('오전', 'AM')\n",
    "raw.exp_time = raw.exp_time.str.replace('오후', 'PM')\n",
    "raw.set_time = raw.set_time.str.replace('오전', 'AM')\n",
    "raw.set_time = raw.set_time.str.replace('오후', 'PM')\n",
    "raw.ride_time = raw.ride_time.str.replace('오전', 'AM')\n",
    "raw.ride_time = raw.ride_time.str.replace('오후', 'PM')"
   ]
  },
  {
   "cell_type": "code",
   "execution_count": 177,
   "metadata": {},
   "outputs": [
    {
     "data": {
      "text/html": [
       "<div>\n",
       "<style scoped>\n",
       "    .dataframe tbody tr th:only-of-type {\n",
       "        vertical-align: middle;\n",
       "    }\n",
       "\n",
       "    .dataframe tbody tr th {\n",
       "        vertical-align: top;\n",
       "    }\n",
       "\n",
       "    .dataframe thead th {\n",
       "        text-align: right;\n",
       "    }\n",
       "</style>\n",
       "<table border=\"1\" class=\"dataframe\">\n",
       "  <thead>\n",
       "    <tr style=\"text-align: right;\">\n",
       "      <th></th>\n",
       "      <th>car_no</th>\n",
       "      <th>car_type</th>\n",
       "      <th>exp_time</th>\n",
       "      <th>set_time</th>\n",
       "      <th>ride_time</th>\n",
       "      <th>dept_gu</th>\n",
       "      <th>dept_dong</th>\n",
       "      <th>dest_gu</th>\n",
       "      <th>dest_dong</th>\n",
       "    </tr>\n",
       "  </thead>\n",
       "  <tbody>\n",
       "    <tr>\n",
       "      <th>0</th>\n",
       "      <td>5815</td>\n",
       "      <td>중형승합</td>\n",
       "      <td>2019-01-01 AM 12:02:00</td>\n",
       "      <td>2019-01-01 AM 3:56:24</td>\n",
       "      <td>2019-01-01 AM 4:15:34</td>\n",
       "      <td>종로구</td>\n",
       "      <td>삼청동</td>\n",
       "      <td>성북구</td>\n",
       "      <td>월곡제1동</td>\n",
       "    </tr>\n",
       "    <tr>\n",
       "      <th>1</th>\n",
       "      <td>5815</td>\n",
       "      <td>중형승합</td>\n",
       "      <td>2019-01-01 AM 12:13:00</td>\n",
       "      <td>2019-01-01 AM 3:17:56</td>\n",
       "      <td>2019-01-01 AM 3:36:11</td>\n",
       "      <td>성북구</td>\n",
       "      <td>보문동</td>\n",
       "      <td>강북구</td>\n",
       "      <td>삼각산동</td>\n",
       "    </tr>\n",
       "    <tr>\n",
       "      <th>2</th>\n",
       "      <td>1313</td>\n",
       "      <td>중형승합</td>\n",
       "      <td>2019-01-01 AM 12:15:00</td>\n",
       "      <td>2019-01-01 AM 3:03:30</td>\n",
       "      <td>2019-01-01 AM 3:23:48</td>\n",
       "      <td>강북구</td>\n",
       "      <td>인수동</td>\n",
       "      <td>노원구</td>\n",
       "      <td>하계2동</td>\n",
       "    </tr>\n",
       "    <tr>\n",
       "      <th>3</th>\n",
       "      <td>5764</td>\n",
       "      <td>승합</td>\n",
       "      <td>2019-01-01 AM 12:17:00</td>\n",
       "      <td>2019-01-01 AM 3:55:50</td>\n",
       "      <td>2019-01-01 AM 4:16:51</td>\n",
       "      <td>중구</td>\n",
       "      <td>회현동</td>\n",
       "      <td>부천시소사구</td>\n",
       "      <td>송내1동</td>\n",
       "    </tr>\n",
       "    <tr>\n",
       "      <th>4</th>\n",
       "      <td>1601</td>\n",
       "      <td>중형승합</td>\n",
       "      <td>2019-01-01 AM 12:21:00</td>\n",
       "      <td>2019-01-01 AM 1:36:00</td>\n",
       "      <td>2019-01-01 AM 2:13:11</td>\n",
       "      <td>은평구</td>\n",
       "      <td>구산동</td>\n",
       "      <td>은평구</td>\n",
       "      <td>역촌동</td>\n",
       "    </tr>\n",
       "  </tbody>\n",
       "</table>\n",
       "</div>"
      ],
      "text/plain": [
       "   car_no car_type                exp_time               set_time  \\\n",
       "0    5815     중형승합  2019-01-01 AM 12:02:00  2019-01-01 AM 3:56:24   \n",
       "1    5815     중형승합  2019-01-01 AM 12:13:00  2019-01-01 AM 3:17:56   \n",
       "2    1313     중형승합  2019-01-01 AM 12:15:00  2019-01-01 AM 3:03:30   \n",
       "3    5764       승합  2019-01-01 AM 12:17:00  2019-01-01 AM 3:55:50   \n",
       "4    1601     중형승합  2019-01-01 AM 12:21:00  2019-01-01 AM 1:36:00   \n",
       "\n",
       "               ride_time dept_gu dept_dong dest_gu dest_dong  \n",
       "0  2019-01-01 AM 4:15:34     종로구       삼청동     성북구     월곡제1동  \n",
       "1  2019-01-01 AM 3:36:11     성북구       보문동     강북구      삼각산동  \n",
       "2  2019-01-01 AM 3:23:48     강북구       인수동     노원구      하계2동  \n",
       "3  2019-01-01 AM 4:16:51      중구       회현동  부천시소사구      송내1동  \n",
       "4  2019-01-01 AM 2:13:11     은평구       구산동     은평구       역촌동  "
      ]
     },
     "execution_count": 177,
     "metadata": {},
     "output_type": "execute_result"
    }
   ],
   "source": [
    "raw.head()"
   ]
  },
  {
   "cell_type": "code",
   "execution_count": 104,
   "metadata": {},
   "outputs": [],
   "source": [
    "time11 = []  # 날짜형식 변환 \n",
    "time22 = []\n",
    "time33 = []\n",
    "form_time = \"%Y-%m-%d %p %I:%M:%S\"\n",
    "form_time2 = \"%Y-%m-%d\"\n",
    "\n",
    "for i in range(len(raw.exp_time)):    \n",
    "    try:\n",
    "        time11.append(datetime.strptime(raw.exp_time[i], form_time))\n",
    "        \n",
    "    except:\n",
    "        time11.append(datetime.strptime(raw.exp_time[i], form_time2))\n",
    "        \n",
    "for i in range(len(raw.set_time)):    \n",
    "    try:\n",
    "        time22.append(datetime.strptime(raw.set_time[i], form_time))\n",
    "    except:\n",
    "        time22.append(0)\n",
    "        \n",
    "for i in range(len(raw.ride_time)):    \n",
    "    try:\n",
    "        time33.append(datetime.strptime(raw.ride_time[i], form_time))\n",
    "    except:\n",
    "        time33.append(0)"
   ]
  },
  {
   "cell_type": "code",
   "execution_count": 105,
   "metadata": {},
   "outputs": [
    {
     "data": {
      "text/plain": [
       "datetime.datetime(2019, 1, 1, 0, 2)"
      ]
     },
     "execution_count": 105,
     "metadata": {},
     "output_type": "execute_result"
    }
   ],
   "source": [
    "time11[0] # 데이터 확인 "
   ]
  },
  {
   "cell_type": "code",
   "execution_count": 106,
   "metadata": {},
   "outputs": [
    {
     "data": {
      "text/plain": [
       "'2019-01-01 00:02:00'"
      ]
     },
     "execution_count": 106,
     "metadata": {},
     "output_type": "execute_result"
    }
   ],
   "source": [
    "time11[0].strftime('%Y-%m-%d %H:%M:%S') # 데이터 변환 확인 "
   ]
  },
  {
   "cell_type": "code",
   "execution_count": 107,
   "metadata": {},
   "outputs": [],
   "source": [
    "time111 = [] # datetime 객체를 다시 보기좋은형태로 변환 \n",
    "time222 = []\n",
    "time333 = []\n",
    "\n",
    "form_time = '%Y-%m-%d %H:%M:%S'\n",
    "\n",
    "for i in range(len(time11)):    \n",
    "    try:\n",
    "        time111.append(datetime.strftime(time11[i], form_time))\n",
    "    except:\n",
    "        time111.append(0)\n",
    "        \n",
    "for i in range(len(time22)):    \n",
    "    try:\n",
    "        time222.append(datetime.strftime(time22[i], form_time))\n",
    "    except:\n",
    "        time222.append(0)\n",
    "        \n",
    "for i in range(len(time33)):    \n",
    "    try:\n",
    "        time333.append(datetime.strftime(time33[i], form_time))\n",
    "    except:\n",
    "        time333.append(0)"
   ]
  },
  {
   "cell_type": "code",
   "execution_count": 108,
   "metadata": {},
   "outputs": [],
   "source": [
    "raw.exp_time = time111\n",
    "raw.set_time = time222\n",
    "raw.ride_time = time333"
   ]
  },
  {
   "cell_type": "code",
   "execution_count": 109,
   "metadata": {},
   "outputs": [
    {
     "data": {
      "text/html": [
       "<div>\n",
       "<style scoped>\n",
       "    .dataframe tbody tr th:only-of-type {\n",
       "        vertical-align: middle;\n",
       "    }\n",
       "\n",
       "    .dataframe tbody tr th {\n",
       "        vertical-align: top;\n",
       "    }\n",
       "\n",
       "    .dataframe thead th {\n",
       "        text-align: right;\n",
       "    }\n",
       "</style>\n",
       "<table border=\"1\" class=\"dataframe\">\n",
       "  <thead>\n",
       "    <tr style=\"text-align: right;\">\n",
       "      <th></th>\n",
       "      <th>car_no</th>\n",
       "      <th>car_type</th>\n",
       "      <th>exp_time</th>\n",
       "      <th>set_time</th>\n",
       "      <th>ride_time</th>\n",
       "      <th>dept_gu</th>\n",
       "      <th>dept_dong</th>\n",
       "      <th>dest_gu</th>\n",
       "      <th>dest_dong</th>\n",
       "    </tr>\n",
       "  </thead>\n",
       "  <tbody>\n",
       "    <tr>\n",
       "      <th>0</th>\n",
       "      <td>5815</td>\n",
       "      <td>중형승합</td>\n",
       "      <td>2019-01-01 00:02:00</td>\n",
       "      <td>2019-01-01 03:56:24</td>\n",
       "      <td>2019-01-01 04:15:34</td>\n",
       "      <td>종로구</td>\n",
       "      <td>삼청동</td>\n",
       "      <td>성북구</td>\n",
       "      <td>월곡제1동</td>\n",
       "    </tr>\n",
       "    <tr>\n",
       "      <th>1</th>\n",
       "      <td>5815</td>\n",
       "      <td>중형승합</td>\n",
       "      <td>2019-01-01 00:13:00</td>\n",
       "      <td>2019-01-01 03:17:56</td>\n",
       "      <td>2019-01-01 03:36:11</td>\n",
       "      <td>성북구</td>\n",
       "      <td>보문동</td>\n",
       "      <td>강북구</td>\n",
       "      <td>삼각산동</td>\n",
       "    </tr>\n",
       "    <tr>\n",
       "      <th>2</th>\n",
       "      <td>1313</td>\n",
       "      <td>중형승합</td>\n",
       "      <td>2019-01-01 00:15:00</td>\n",
       "      <td>2019-01-01 03:03:30</td>\n",
       "      <td>2019-01-01 03:23:48</td>\n",
       "      <td>강북구</td>\n",
       "      <td>인수동</td>\n",
       "      <td>노원구</td>\n",
       "      <td>하계2동</td>\n",
       "    </tr>\n",
       "    <tr>\n",
       "      <th>3</th>\n",
       "      <td>5764</td>\n",
       "      <td>승합</td>\n",
       "      <td>2019-01-01 00:17:00</td>\n",
       "      <td>2019-01-01 03:55:50</td>\n",
       "      <td>2019-01-01 04:16:51</td>\n",
       "      <td>중구</td>\n",
       "      <td>회현동</td>\n",
       "      <td>부천시소사구</td>\n",
       "      <td>송내1동</td>\n",
       "    </tr>\n",
       "    <tr>\n",
       "      <th>4</th>\n",
       "      <td>1601</td>\n",
       "      <td>중형승합</td>\n",
       "      <td>2019-01-01 00:21:00</td>\n",
       "      <td>2019-01-01 01:36:00</td>\n",
       "      <td>2019-01-01 02:13:11</td>\n",
       "      <td>은평구</td>\n",
       "      <td>구산동</td>\n",
       "      <td>은평구</td>\n",
       "      <td>역촌동</td>\n",
       "    </tr>\n",
       "  </tbody>\n",
       "</table>\n",
       "</div>"
      ],
      "text/plain": [
       "   car_no car_type             exp_time             set_time  \\\n",
       "0    5815     중형승합  2019-01-01 00:02:00  2019-01-01 03:56:24   \n",
       "1    5815     중형승합  2019-01-01 00:13:00  2019-01-01 03:17:56   \n",
       "2    1313     중형승합  2019-01-01 00:15:00  2019-01-01 03:03:30   \n",
       "3    5764       승합  2019-01-01 00:17:00  2019-01-01 03:55:50   \n",
       "4    1601     중형승합  2019-01-01 00:21:00  2019-01-01 01:36:00   \n",
       "\n",
       "             ride_time dept_gu dept_dong dest_gu dest_dong  \n",
       "0  2019-01-01 04:15:34     종로구       삼청동     성북구     월곡제1동  \n",
       "1  2019-01-01 03:36:11     성북구       보문동     강북구      삼각산동  \n",
       "2  2019-01-01 03:23:48     강북구       인수동     노원구      하계2동  \n",
       "3  2019-01-01 04:16:51      중구       회현동  부천시소사구      송내1동  \n",
       "4  2019-01-01 02:13:11     은평구       구산동     은평구       역촌동  "
      ]
     },
     "execution_count": 109,
     "metadata": {},
     "output_type": "execute_result"
    }
   ],
   "source": [
    "raw.head() # 시간 변환 확인 "
   ]
  },
  {
   "cell_type": "markdown",
   "metadata": {},
   "source": [
    "## **서울지역만 추출하기**"
   ]
  },
  {
   "cell_type": "code",
   "execution_count": 110,
   "metadata": {},
   "outputs": [],
   "source": [
    "raw2 = raw.copy()"
   ]
  },
  {
   "cell_type": "code",
   "execution_count": 111,
   "metadata": {},
   "outputs": [
    {
     "data": {
      "text/plain": [
       "'C:\\\\Users\\\\limwk\\\\Desktop\\\\data'"
      ]
     },
     "execution_count": 111,
     "metadata": {},
     "output_type": "execute_result"
    }
   ],
   "source": [
    "file_path # 파일 경로 확인 "
   ]
  },
  {
   "cell_type": "code",
   "execution_count": 112,
   "metadata": {},
   "outputs": [],
   "source": [
    "gu = pd.read_csv(file_path+'\\서울시 행정구역.csv', encoding='euc-kr') # 지역구 데이터"
   ]
  },
  {
   "cell_type": "code",
   "execution_count": 113,
   "metadata": {},
   "outputs": [],
   "source": [
    "gu = gu[['행정구']] # 구 칼럼만 선택 "
   ]
  },
  {
   "cell_type": "code",
   "execution_count": 114,
   "metadata": {},
   "outputs": [],
   "source": [
    "raw2 = raw2.merge(gu, how='left', left_on='dept_gu', right_on='행정구')\n",
    "raw2 = raw2.merge(gu, how='left', left_on='dest_gu', right_on='행정구')"
   ]
  },
  {
   "cell_type": "code",
   "execution_count": 115,
   "metadata": {},
   "outputs": [],
   "source": [
    "raw2 = raw2[raw2.exp_time != 0]\n",
    "raw2 = raw2[raw2.set_time != 0]\n",
    "raw2 = raw2[raw2.ride_time != 0]"
   ]
  },
  {
   "cell_type": "code",
   "execution_count": 116,
   "metadata": {},
   "outputs": [],
   "source": [
    "seoul = raw2.iloc[:, :-2] # merge후 생성되는 불필요 컬럼제거"
   ]
  },
  {
   "cell_type": "code",
   "execution_count": 138,
   "metadata": {},
   "outputs": [],
   "source": [
    "seoul.to_csv(file_path+'\\seoul_tmp.csv', encoding='euc-kr', index=None) # 임시저장"
   ]
  },
  {
   "cell_type": "markdown",
   "metadata": {},
   "source": [
    "### **행정동 전처리**"
   ]
  },
  {
   "cell_type": "code",
   "execution_count": 178,
   "metadata": {},
   "outputs": [],
   "source": [
    "df = pd.read_csv(file_path+\"/seoul_tmp.csv\", encoding='euc-kr')"
   ]
  },
  {
   "cell_type": "code",
   "execution_count": 179,
   "metadata": {
    "scrolled": true
   },
   "outputs": [
    {
     "data": {
      "text/html": [
       "<div>\n",
       "<style scoped>\n",
       "    .dataframe tbody tr th:only-of-type {\n",
       "        vertical-align: middle;\n",
       "    }\n",
       "\n",
       "    .dataframe tbody tr th {\n",
       "        vertical-align: top;\n",
       "    }\n",
       "\n",
       "    .dataframe thead th {\n",
       "        text-align: right;\n",
       "    }\n",
       "</style>\n",
       "<table border=\"1\" class=\"dataframe\">\n",
       "  <thead>\n",
       "    <tr style=\"text-align: right;\">\n",
       "      <th></th>\n",
       "      <th>car_no</th>\n",
       "      <th>car_type</th>\n",
       "      <th>exp_time</th>\n",
       "      <th>set_time</th>\n",
       "      <th>ride_time</th>\n",
       "      <th>dept_gu</th>\n",
       "      <th>dept_dong</th>\n",
       "      <th>dest_gu</th>\n",
       "      <th>dest_dong</th>\n",
       "    </tr>\n",
       "  </thead>\n",
       "  <tbody>\n",
       "  </tbody>\n",
       "</table>\n",
       "</div>"
      ],
      "text/plain": [
       "Empty DataFrame\n",
       "Columns: [car_no, car_type, exp_time, set_time, ride_time, dept_gu, dept_dong, dest_gu, dest_dong]\n",
       "Index: []"
      ]
     },
     "execution_count": 179,
     "metadata": {},
     "output_type": "execute_result"
    }
   ],
   "source": [
    "df[df[\"dept_gu\"] == '제기동']"
   ]
  },
  {
   "cell_type": "code",
   "execution_count": 153,
   "metadata": {},
   "outputs": [],
   "source": [
    "df[\"dept_dong\"] = df[\"dept_dong\"].str.replace('제', '')\n",
    "df[\"dept_dong\"] = df[\"dept_dong\"].str.replace('기동', '제기동')\n",
    "df[\"dept_dong\"] = df[\"dept_dong\"].str.replace('홍1동', '홍제1동')\n",
    "df[\"dept_dong\"] = df[\"dept_dong\"].str.replace('홍2동', '홍제2동')\n",
    "df[\"dept_dong\"] = df[\"dept_dong\"].str.replace('홍3동', '홍제3동')"
   ]
  },
  {
   "cell_type": "code",
   "execution_count": 154,
   "metadata": {},
   "outputs": [],
   "source": [
    "df[\"dest_dong\"] = df[\"dest_dong\"].str.replace('제', '')\n",
    "df[\"dest_dong\"] = df[\"dest_dong\"].str.replace('기동', '제기동')\n",
    "df[\"dest_dong\"] = df[\"dest_dong\"].str.replace('홍1동', '홍제1동')\n",
    "df[\"dest_dong\"] = df[\"dest_dong\"].str.replace('홍2동', '홍제2동')\n",
    "df[\"dest_dong\"] = df[\"dest_dong\"].str.replace('홍3동', '홍제3동')"
   ]
  },
  {
   "cell_type": "code",
   "execution_count": 155,
   "metadata": {},
   "outputs": [],
   "source": [
    "df = df.dropna()"
   ]
  },
  {
   "cell_type": "code",
   "execution_count": 156,
   "metadata": {},
   "outputs": [],
   "source": [
    "dif = pd.read_excel(file_path+'/201804_정부_서울_행정동_위경도.xlsx', encoding='euc-kr')"
   ]
  },
  {
   "cell_type": "code",
   "execution_count": 157,
   "metadata": {},
   "outputs": [],
   "source": [
    "set(dif[\"adm_nm_dong\"].unique()) - set(df2[\"dept_dong\"]) # 동별 지도 데이터와 콜데이터 간의 동 차이 확인"
   ]
  },
  {
   "cell_type": "markdown",
   "metadata": {},
   "source": [
    "### **파생변수 (요일, 시간 등 생성)**"
   ]
  },
  {
   "cell_type": "code",
   "execution_count": 158,
   "metadata": {},
   "outputs": [],
   "source": [
    "df2 = df.copy()"
   ]
  },
  {
   "cell_type": "code",
   "execution_count": 159,
   "metadata": {},
   "outputs": [
    {
     "data": {
      "text/html": [
       "<div>\n",
       "<style scoped>\n",
       "    .dataframe tbody tr th:only-of-type {\n",
       "        vertical-align: middle;\n",
       "    }\n",
       "\n",
       "    .dataframe tbody tr th {\n",
       "        vertical-align: top;\n",
       "    }\n",
       "\n",
       "    .dataframe thead th {\n",
       "        text-align: right;\n",
       "    }\n",
       "</style>\n",
       "<table border=\"1\" class=\"dataframe\">\n",
       "  <thead>\n",
       "    <tr style=\"text-align: right;\">\n",
       "      <th></th>\n",
       "      <th>car_no</th>\n",
       "      <th>car_type</th>\n",
       "      <th>exp_time</th>\n",
       "      <th>set_time</th>\n",
       "      <th>ride_time</th>\n",
       "      <th>dept_gu</th>\n",
       "      <th>dept_dong</th>\n",
       "      <th>dest_gu</th>\n",
       "      <th>dest_dong</th>\n",
       "    </tr>\n",
       "  </thead>\n",
       "  <tbody>\n",
       "  </tbody>\n",
       "</table>\n",
       "</div>"
      ],
      "text/plain": [
       "Empty DataFrame\n",
       "Columns: [car_no, car_type, exp_time, set_time, ride_time, dept_gu, dept_dong, dest_gu, dest_dong]\n",
       "Index: []"
      ]
     },
     "execution_count": 159,
     "metadata": {},
     "output_type": "execute_result"
    }
   ],
   "source": [
    "df2[df2.ride_time == '0']"
   ]
  },
  {
   "cell_type": "code",
   "execution_count": 166,
   "metadata": {},
   "outputs": [],
   "source": [
    "df2['ride_exp'] = time_diff(df2.ride_time, df2.exp_time)\n",
    "df2['ride_set'] = time_diff(df2.ride_time, df2.set_time)\n",
    "df2['set_exp'] = time_diff(df2.set_time, df2.exp_time)"
   ]
  },
  {
   "cell_type": "code",
   "execution_count": 167,
   "metadata": {},
   "outputs": [],
   "source": [
    "df2['month'] = GetYMDT(df2['ride_time'], YMD='%m')\n",
    "df2['day'] = GetYMDT(df2['ride_time'], YMD='%d')\n",
    "df2['hour'] = GetYMDT(df2['ride_time'], YMD='%H')\n",
    "df2['weekday'] = GetWeekday(df2['ride_time'])"
   ]
  },
  {
   "cell_type": "code",
   "execution_count": 168,
   "metadata": {},
   "outputs": [],
   "source": [
    "df2.to_csv(file_path+\"/19_cst_euc.csv\", index=None, encoding='euc-kr') # 일반용 \n",
    "df2.to_csv(file_path+\"/19_cst_utf.csv\", index=None, encoding='utf-8') # 하이브용 "
   ]
  },
  {
   "cell_type": "code",
   "execution_count": 171,
   "metadata": {},
   "outputs": [],
   "source": [
    "t = pd.read_csv(file_path+\"/19_cst_utf.csv\", encoding='utf-8') # 인코딩이 제대로 인식하는지 확인 "
   ]
  },
  {
   "cell_type": "markdown",
   "metadata": {},
   "source": [
    "### **사용 함수**"
   ]
  },
  {
   "cell_type": "code",
   "execution_count": 165,
   "metadata": {},
   "outputs": [],
   "source": [
    "def time_diff(data1, data2):\n",
    "    temp = []\n",
    "    \n",
    "    for i in range(len(data1)):\n",
    "        d1 = datetime.strptime(data1[i], \"%Y-%m-%d %H:%M:%S\")\n",
    "        d2 = datetime.strptime(data2[i], \"%Y-%m-%d %H:%M:%S\")\n",
    "        delta = d1 - d2\n",
    "        \n",
    "        if delta.days < 0:\n",
    "            temp.append(0)\n",
    "        else:\n",
    "            temp.append(round(delta.seconds / 60))\n",
    "    return temp"
   ]
  },
  {
   "cell_type": "code",
   "execution_count": 101,
   "metadata": {},
   "outputs": [],
   "source": [
    "def GetYMDT(data, YMD='%m'):\n",
    "    temp = pd.to_datetime(data)\n",
    "    result = temp.dt.strftime(YMD)\n",
    "    return result"
   ]
  },
  {
   "cell_type": "code",
   "execution_count": 102,
   "metadata": {},
   "outputs": [],
   "source": [
    "def GetWeekday(data):\n",
    "    temp = pd.to_datetime(data)\n",
    "    result = temp.dt.weekday_name\n",
    "    return result"
   ]
  }
 ],
 "metadata": {
  "kernelspec": {
   "display_name": "Python 3",
   "language": "python",
   "name": "python3"
  },
  "language_info": {
   "codemirror_mode": {
    "name": "ipython",
    "version": 3
   },
   "file_extension": ".py",
   "mimetype": "text/x-python",
   "name": "python",
   "nbconvert_exporter": "python",
   "pygments_lexer": "ipython3",
   "version": "3.7.3"
  }
 },
 "nbformat": 4,
 "nbformat_minor": 2
}
